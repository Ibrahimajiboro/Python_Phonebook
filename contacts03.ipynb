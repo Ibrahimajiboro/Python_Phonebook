{
 "cells": [
  {
   "cell_type": "code",
   "execution_count": null,
   "id": "5c968650",
   "metadata": {},
   "outputs": [],
   "source": [
    "# add, delete, edit, search\n",
    "contacts = {}\n",
    "\n",
    "while True :\n",
    "    print (\"PHONEBOOK\")\n",
    "    print (\"to create contact, 1\")\n",
    "    print (\"to delete contact, 2\")\n",
    "    print (\"to search for contact, 3\")\n",
    "    print (\"to edit contact, 4\")\n",
    "    option1 = int (input ( ' Enter number to proceed: '))\n",
    "    if option1 == 1:\n",
    "        print('Welcome to our address book...')\n",
    "        print('Kindly enter your details below...')\n",
    "        print (contacts)\n",
    "        name1 = input ('Your name :  ')\n",
    "        address1 = input ('Your address :  ')\n",
    "        pnumber1 = input ('Your phone number :  ')\n",
    "        email1 = input ('your mail :  ')\n",
    "        contacts [name1] = [ address1 + ' , '  + pnumber1 + ' , ' + email1 ]\n",
    "        confirm_contact = input ('enter save to see your saved details. ')\n",
    "        print (contacts[name1])\n",
    "        print ('your details have been saved ')\n",
    "        confirm_contact_list = input ('enter contacts to see all saved contacts. ')\n",
    "        print (contacts)\n",
    "    \n",
    "    \n",
    "    elif option1 == 2:\n",
    "        print (contacts)\n",
    "        delete_name = input ('to delete a contact, enter name  : ')\n",
    "        print (contacts[delete_name])\n",
    "        confirm_name = input ('Are you sure you want to delete the contact above, YES or N0  : ')\n",
    "        del contacts[delete_name]\n",
    "        confirm_delete = input ('enter contacts to see updated list. ')\n",
    "        print (contacts)\n",
    "   \n",
    "\n",
    "    elif option1 == 3:\n",
    "        print (contacts)\n",
    "        search_name = input ('to search a contact, enter name  : ')\n",
    "        print(contacts.get(search_name))\n",
    "        main_menu = input ('enter back to go to main menu : ')\n",
    "       \n",
    "    elif option1 == 4:  \n",
    "        \n",
    "        print (contacts)\n",
    "        edit = input ('to edit a contact, enter name  : ')\n",
    "        edit_name =\n",
    "        \n",
    "        \n",
    "        \n",
    "   \n",
    "#CORRECTION \n",
    "    \n",
    "    \n",
    "    \n",
    "    \n",
    "    \n",
    "    \n",
    "    "
   ]
  },
  {
   "cell_type": "code",
   "execution_count": 6,
   "id": "1de8e844",
   "metadata": {},
   "outputs": [
    {
     "ename": "IndentationError",
     "evalue": "unexpected indent (<ipython-input-6-ae7e908d2c75>, line 2)",
     "output_type": "error",
     "traceback": [
      "\u001b[1;36m  File \u001b[1;32m\"<ipython-input-6-ae7e908d2c75>\"\u001b[1;36m, line \u001b[1;32m2\u001b[0m\n\u001b[1;33m    edit3 = int(input ('Enter new detail  : '))\u001b[0m\n\u001b[1;37m    ^\u001b[0m\n\u001b[1;31mIndentationError\u001b[0m\u001b[1;31m:\u001b[0m unexpected indent\n"
     ]
    }
   ],
   "source": [
    "edit = input ('to edit a contact, enter name  : ')\n",
    "        edit3 = int(input ('Enter new detail  : '))\n",
    "        contacts [edit1] [edit2] = edit3\n",
    "        edit4 = input ('to view new contacts list, type contacts list in the dialogue box and press enter key : ')\n",
    "        print  (contacts)\n",
    "   "
   ]
  },
  {
   "cell_type": "code",
   "execution_count": null,
   "id": "68d07429",
   "metadata": {},
   "outputs": [],
   "source": [
    " edit = input ( ' to edit a contact press 2 ')\n",
    "    delete = input ( ' to delete a contact press 3 ')\n",
    "    "
   ]
  },
  {
   "cell_type": "code",
   "execution_count": null,
   "id": "cb336a58",
   "metadata": {},
   "outputs": [],
   "source": [
    "{'ibra1': ['bimb1 , 0901 , gmail1']}"
   ]
  },
  {
   "cell_type": "code",
   "execution_count": null,
   "id": "3cd8f3c6",
   "metadata": {},
   "outputs": [],
   "source": [
    "print (contacts[edit_name][0] )\n",
    "        \n",
    "        edit_option = int (input ('enter number to proceed '))\n",
    "        if edit_option == 0 :\n",
    "            new_address = input ('enter new address : ')\n",
    "            contacts [edit_name] [0] =  new_address\n",
    "            save_address = input ('to save address, enter save : ')\n",
    "            print (contacts[edit_name][0], 'contact saved' )\n",
    "            see_edited = input ('enter contacts to see full contact details  : ')\n",
    "            print (contacts, 'contact updated' )\n",
    "        "
   ]
  }
 ],
 "metadata": {
  "kernelspec": {
   "display_name": "Python 3",
   "language": "python",
   "name": "python3"
  },
  "language_info": {
   "codemirror_mode": {
    "name": "ipython",
    "version": 3
   },
   "file_extension": ".py",
   "mimetype": "text/x-python",
   "name": "python",
   "nbconvert_exporter": "python",
   "pygments_lexer": "ipython3",
   "version": "3.8.8"
  }
 },
 "nbformat": 4,
 "nbformat_minor": 5
}
