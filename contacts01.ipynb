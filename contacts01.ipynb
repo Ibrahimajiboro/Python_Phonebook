{
 "cells": [
  {
   "cell_type": "code",
   "execution_count": 7,
   "id": "8cf66733",
   "metadata": {},
   "outputs": [
    {
     "name": "stdout",
     "output_type": "stream",
     "text": [
      "08026351245\n",
      "09036652558\n",
      "{'ade': '08026351245', 'yinka': ['07066332512', '09036652558'], 'bimbo': '09012558852'}\n",
      "to delete a contact, enter name : yinka\n",
      "{'ade': '08026351245', 'bimbo': '09012558852'}\n"
     ]
    }
   ],
   "source": [
    "contacts = {'ade': '08026351245', 'yinka': ['07066332512', '09036652558'] , 'bimbo': '09012558852'}\n",
    "print(contacts['ade'])\n",
    "print(contacts['yinka'][1])\n",
    "contacts['bimbo'] = '09012558852'\n",
    "print (contacts)\n",
    "\n",
    "del1 = input ('to delete a contact, enter name : ')\n",
    "del contacts[del1]\n",
    "print (contacts)"
   ]
  },
  {
   "cell_type": "code",
   "execution_count": null,
   "id": "6c9a98ec",
   "metadata": {},
   "outputs": [],
   "source": [
    "print(contacts['yinka'][1])\n",
    "\n",
    "values.append(9)\n",
    "contacts['bimbo'] = '09012558852'"
   ]
  },
  {
   "cell_type": "code",
   "execution_count": 1,
   "id": "96df7c2f",
   "metadata": {},
   "outputs": [
    {
     "name": "stdout",
     "output_type": "stream",
     "text": [
      "type all contacts in the dialogue box, to view contacts list : all comtacts\n",
      "{'ade': '08026351245', 'yinka': ['07066332512', '09036652558'], 'bimbo': '09012558852'}\n",
      "to select a contact, enter name and click enter : bimbo\n",
      "to edit contact, enter edit and click enter : edit\n",
      "contact name :  ibra\n",
      "contact address :  bimbo\n",
      "contact phone number :  0909\n",
      "contact mail :  gmail\n"
     ]
    },
    {
     "ename": "KeyError",
     "evalue": "'ibra'",
     "output_type": "error",
     "traceback": [
      "\u001b[1;31m---------------------------------------------------------------------------\u001b[0m",
      "\u001b[1;31mKeyError\u001b[0m                                  Traceback (most recent call last)",
      "\u001b[1;32m<ipython-input-1-7364fad38ba7>\u001b[0m in \u001b[0;36m<module>\u001b[1;34m\u001b[0m\n\u001b[0;32m     15\u001b[0m \u001b[1;33m\u001b[0m\u001b[0m\n\u001b[0;32m     16\u001b[0m \u001b[0mcontacts\u001b[0m \u001b[1;33m[\u001b[0m\u001b[1;34m'name4'\u001b[0m\u001b[1;33m]\u001b[0m \u001b[1;33m=\u001b[0m \u001b[1;34m'[ address4 + '\u001b[0m \u001b[1;33m,\u001b[0m \u001b[1;34m'  + pnumber4 + '\u001b[0m \u001b[1;33m,\u001b[0m \u001b[1;34m' + email4 ]'\u001b[0m\u001b[1;33m\u001b[0m\u001b[1;33m\u001b[0m\u001b[0m\n\u001b[1;32m---> 17\u001b[1;33m \u001b[0mprint\u001b[0m \u001b[1;33m(\u001b[0m\u001b[0mcontacts\u001b[0m\u001b[1;33m[\u001b[0m\u001b[0mname4\u001b[0m\u001b[1;33m]\u001b[0m\u001b[1;33m)\u001b[0m\u001b[1;33m\u001b[0m\u001b[1;33m\u001b[0m\u001b[0m\n\u001b[0m\u001b[0;32m     18\u001b[0m \u001b[0mconfirm_name4\u001b[0m\u001b[1;33m=\u001b[0m \u001b[0minput\u001b[0m \u001b[1;33m(\u001b[0m\u001b[1;34m'confirm your details,enter proceed and click enter. '\u001b[0m\u001b[1;33m)\u001b[0m\u001b[1;33m\u001b[0m\u001b[1;33m\u001b[0m\u001b[0m\n\u001b[0;32m     19\u001b[0m \u001b[0mprint\u001b[0m \u001b[1;33m(\u001b[0m\u001b[1;34m'your details have been saved '\u001b[0m\u001b[1;33m)\u001b[0m\u001b[1;33m\u001b[0m\u001b[1;33m\u001b[0m\u001b[0m\n",
      "\u001b[1;31mKeyError\u001b[0m: 'ibra'"
     ]
    }
   ],
   "source": [
    "contacts = {'ade': '08026351245', \n",
    "            'yinka': ['07066332512','09036652558'] ,\n",
    "            'bimbo': '09012558852'}\n",
    "\n",
    "edit1 = input ('type all contacts in the dialogue box, to view contacts list : ')\n",
    "print  (contacts)\n",
    "edit2 = input ('to select a contact, enter name and click enter : ')\n",
    "print = (contacts[edit2])\n",
    "del contacts[edit2]\n",
    "edit3 = input ('to edit contact, enter edit and click enter : ')\n",
    "name4 = input ('contact name :  ')\n",
    "address4 = input ('contact address :  ')\n",
    "pnumber4 = input ('contact phone number :  ')\n",
    "email4 = input ('contact mail :  ')\n",
    "\n",
    "contacts [name4] = [ address4 + ' , '  + pnumber4 + ' , ' + email4 ]\n",
    "print (contacts[name4])\n",
    "confirm_name4= input ('confirm your details,enter proceed and click enter. ')\n",
    "print ('your details have been saved ')\n",
    "print (contacts[name4])\n",
    "\n",
    "\n",
    "\n",
    "\n"
   ]
  },
  {
   "cell_type": "code",
   "execution_count": 1,
   "id": "cdb0860d",
   "metadata": {},
   "outputs": [
    {
     "name": "stdout",
     "output_type": "stream",
     "text": [
      "contact name :  ibra\n",
      "contact address :  bimb\n",
      "contact phone number :  0909\n",
      "contact mail :  gmail\n",
      "{'ade': '08026351245', 'yinka': ['07066332512', '09036652558'], 'bimbo': '09012558852', 'ibra': 'bimb'}\n"
     ]
    }
   ],
   "source": [
    "#add to contacts \n",
    "\n",
    "contacts = {'ade': '08026351245', \n",
    "            'yinka': ['07066332512','09036652558'] ,\n",
    "            'bimbo': '09012558852'}\n",
    "\n",
    "name4 = input ('contact name :  ')\n",
    "address4 = input ('contact address :  ')\n",
    "pnumber4 = input ('contact phone number :  ')\n",
    "email4 = input ('contact mail :  ')\n",
    "\n",
    "contacts [name4] = address4 \n",
    "\n",
    "print (contacts)"
   ]
  },
  {
   "cell_type": "code",
   "execution_count": 1,
   "id": "52230da9",
   "metadata": {},
   "outputs": [
    {
     "name": "stdout",
     "output_type": "stream",
     "text": [
      "contact name :  ibra\n",
      "contact address :  bimb\n",
      "contact phone number :  0909\n",
      "{'ade': '08026351245', 'yinka': ['07066332512', '09036652558'], 'bimbo': '09012558852', 'ibra': 'bimb , 0909'}\n"
     ]
    }
   ],
   "source": [
    "contacts = {'ade': '08026351245', \n",
    "            'yinka': ['07066332512','09036652558'] ,\n",
    "            'bimbo': '09012558852'}\n",
    "\n",
    "name4 = input ('contact name :  ')\n",
    "address4 = input ('contact address :  ')\n",
    "pnumber4 = input ('contact phone number :  ')\n",
    "\n",
    "contacts [name4] = address4 + ' , '  +pnumber4\n",
    "\n",
    "print (contacts)"
   ]
  },
  {
   "cell_type": "code",
   "execution_count": 1,
   "id": "94e964ac",
   "metadata": {},
   "outputs": [
    {
     "name": "stdout",
     "output_type": "stream",
     "text": [
      "contact name :  ibra\n",
      "contact address :  bimb\n",
      "contact phone number :  0909\n",
      "{'ade': '08026351245', 'yinka': ['07066332512', '09036652558'], 'bimbo': '09012558852', 'ibra': ['bimb , 0909']}\n"
     ]
    }
   ],
   "source": [
    "contacts = {'ade': '08026351245', \n",
    "            'yinka': ['07066332512','09036652558'] ,\n",
    "            'bimbo': '09012558852'}\n",
    "\n",
    "name4 = input ('contact name :  ')\n",
    "address4 = input ('contact address :  ')\n",
    "pnumber4 = input ('contact phone number :  ')\n",
    "\n",
    "contacts [name4] = [address4 + ' , '  +pnumber4]\n",
    "\n",
    "print (contacts)"
   ]
  },
  {
   "cell_type": "code",
   "execution_count": 1,
   "id": "c994544e",
   "metadata": {},
   "outputs": [
    {
     "name": "stdout",
     "output_type": "stream",
     "text": [
      "08026351245\n"
     ]
    }
   ],
   "source": [
    "contacts = {'ade': '08026351245', 'yinka': ['07066332512','09036652558'] ,'bimbo': '09012558852'}\n",
    "\n",
    "print(contacts['ade'])"
   ]
  },
  {
   "cell_type": "code",
   "execution_count": 1,
   "id": "3d59a711",
   "metadata": {},
   "outputs": [
    {
     "name": "stdout",
     "output_type": "stream",
     "text": [
      "type all contacts in the dialogue box, to view contacts list : all contacts\n",
      "{'ade': '08026351245', 'yinka': ['07066332512', '09036652558'], 'bimbo': '09012558852'}\n",
      "to select a contact, enter name and click enter : bimbo\n",
      "to edit contact, enter edit and click enter : edit\n",
      "contact name :  ibra\n",
      "contact address :  bimb\n",
      "contact phone number :  0909\n",
      "contact mail :  gmail\n"
     ]
    },
    {
     "ename": "TypeError",
     "evalue": "'str' object is not callable",
     "output_type": "error",
     "traceback": [
      "\u001b[1;31m---------------------------------------------------------------------------\u001b[0m",
      "\u001b[1;31mTypeError\u001b[0m                                 Traceback (most recent call last)",
      "\u001b[1;32m<ipython-input-1-aba30fdfc84c>\u001b[0m in \u001b[0;36m<module>\u001b[1;34m\u001b[0m\n\u001b[0;32m     15\u001b[0m \u001b[1;33m\u001b[0m\u001b[0m\n\u001b[0;32m     16\u001b[0m \u001b[0mcontacts\u001b[0m \u001b[1;33m[\u001b[0m\u001b[0mname4\u001b[0m\u001b[1;33m]\u001b[0m \u001b[1;33m=\u001b[0m  \u001b[0maddress4\u001b[0m \u001b[1;33m+\u001b[0m \u001b[1;34m' , '\u001b[0m  \u001b[1;33m+\u001b[0m \u001b[0mpnumber4\u001b[0m \u001b[1;33m+\u001b[0m \u001b[1;34m' , '\u001b[0m \u001b[1;33m+\u001b[0m \u001b[0memail4\u001b[0m\u001b[1;33m\u001b[0m\u001b[1;33m\u001b[0m\u001b[0m\n\u001b[1;32m---> 17\u001b[1;33m \u001b[0mprint\u001b[0m \u001b[1;33m(\u001b[0m\u001b[0mcontacts\u001b[0m\u001b[1;33m)\u001b[0m\u001b[1;33m\u001b[0m\u001b[1;33m\u001b[0m\u001b[0m\n\u001b[0m\u001b[0;32m     18\u001b[0m \u001b[1;33m\u001b[0m\u001b[0m\n",
      "\u001b[1;31mTypeError\u001b[0m: 'str' object is not callable"
     ]
    }
   ],
   "source": [
    "contacts = {'ade': '08026351245', \n",
    "            'yinka': ['07066332512','09036652558'] ,\n",
    "            'bimbo': '09012558852'}\n",
    "\n",
    "edit1 = input ('type all contacts in the dialogue box, to view contacts list : ')\n",
    "print  (contacts)\n",
    "edit2 = input ('to select a contact, enter name and click enter : ')\n",
    "print = (contacts[edit2])\n",
    "\n",
    "del contacts[edit2]\n",
    "\n",
    "edit3 = input ('to edit contact, enter edit and click enter : ')\n",
    "name4 = input ('contact name :  ')\n",
    "address4 = input ('contact address :  ')\n",
    "pnumber4 = input ('contact phone number :  ')\n",
    "email4 = input ('contact mail :  ')\n",
    "\n",
    "contacts [name4] =  address4 + ' , '  + pnumber4 + ' , ' + email4 \n",
    "print (contacts)\n",
    "\n"
   ]
  },
  {
   "cell_type": "code",
   "execution_count": 2,
   "id": "82f97d33",
   "metadata": {},
   "outputs": [
    {
     "name": "stdout",
     "output_type": "stream",
     "text": [
      "to view contacts list,type contacts list in the dialogue box and press enter key  : contacts list\n",
      "{'ade': '08026351245', 'yinka': ['07066332512', '09036652558'], 'bimbo': '09012558852'}\n",
      "to delete a contact, enter name and click control key : bimbo\n",
      "to view new contacts list, type contacts list in the dialogue box and press enter key : contacts list \n",
      "{'ade': '08026351245', 'yinka': ['07066332512', '09036652558']}\n"
     ]
    }
   ],
   "source": [
    "#delete contacts \n",
    "\n",
    "contacts = {'ade': '08026351245', \n",
    "            'yinka': ['07066332512','09036652558'] ,\n",
    "            'bimbo': '09012558852'}\n",
    "\n",
    "edit1 = input ('to view contacts list,type contacts list in the dialogue box and press enter key  : ')\n",
    "print  (contacts)\n",
    "edit2 = input ('to delete a contact, enter name and click control key : ')\n",
    "del contacts[edit2]\n",
    "edit3 = input ('to view new contacts list, type contacts list in the dialogue box and press enter key : ')\n",
    "print  (contacts)"
   ]
  },
  {
   "cell_type": "code",
   "execution_count": 4,
   "id": "abe67493",
   "metadata": {},
   "outputs": [
    {
     "name": "stdout",
     "output_type": "stream",
     "text": [
      "{'ade': '08026351245', 'yinka': ['07066332512', '08065421345'], 'bimbo': '09012558852'}\n"
     ]
    }
   ],
   "source": [
    "# edit contacts lists \n",
    "\n",
    "contacts = {'ade': '08026351245', \n",
    "            'yinka': ['07066332512','09036652558'] ,\n",
    "            'bimbo': '09012558852'}\n",
    "\n",
    "contacts ['yinka'] [1] = '08065421345'\n",
    "\n",
    "print (contacts)"
   ]
  },
  {
   "cell_type": "code",
   "execution_count": 1,
   "id": "3a7f4cb4",
   "metadata": {},
   "outputs": [
    {
     "name": "stdout",
     "output_type": "stream",
     "text": [
      "to view contacts list,type \"contacts list\" in the dialogue box and press enter key  : all c\n",
      "{'ade': '08026351245', 'yinka': ['07066332512', '09036652558'], 'bimbo': '09012558852'}\n",
      "to edit a contact number, enter name  : yinka\n",
      "to edit first number enter 0, to edit secomnd number enter 1  : 1\n",
      "Enter new number  : 08012345678\n",
      "to view new contacts list, type contacts list in the dialogue box and press enter key : contact list\n",
      "{'ade': '08026351245', 'yinka': ['07066332512', '08012345678'], 'bimbo': '09012558852'}\n"
     ]
    }
   ],
   "source": [
    "# edit contacts lists \n",
    "\n",
    "contacts = {'ade': '08026351245', \n",
    "            'yinka': ['07066332512','09036652558'] ,\n",
    "            'bimbo': '09012558852'}\n",
    "\n",
    "edit1 = input ('to view contacts list,type \"contacts list\" in the dialogue box and press enter key  : ')\n",
    "print  (contacts)\n",
    "edit2 = input ('to edit a contact number, enter name  : ')\n",
    "edit3 = int (input ('to edit first number enter 0, to edit secomnd number enter 1  : '))\n",
    "edit4 = input ('Enter new number  : ')\n",
    "contacts [edit2] [edit3] = edit4\n",
    "edit3 = input ('to view new contacts list, type contacts list in the dialogue box and press enter key : ')\n",
    "print  (contacts)"
   ]
  },
  {
   "cell_type": "code",
   "execution_count": null,
   "id": "bf3c4be6",
   "metadata": {},
   "outputs": [],
   "source": []
  },
  {
   "cell_type": "code",
   "execution_count": null,
   "id": "e67f1f1a",
   "metadata": {},
   "outputs": [],
   "source": []
  }
 ],
 "metadata": {
  "kernelspec": {
   "display_name": "Python 3",
   "language": "python",
   "name": "python3"
  },
  "language_info": {
   "codemirror_mode": {
    "name": "ipython",
    "version": 3
   },
   "file_extension": ".py",
   "mimetype": "text/x-python",
   "name": "python",
   "nbconvert_exporter": "python",
   "pygments_lexer": "ipython3",
   "version": "3.8.8"
  }
 },
 "nbformat": 4,
 "nbformat_minor": 5
}
